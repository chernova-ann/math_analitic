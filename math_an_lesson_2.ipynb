{
 "cells": [
  {
   "cell_type": "code",
   "execution_count": 30,
   "metadata": {},
   "outputs": [],
   "source": [
    "a = set('123456')\n",
    "b = set('1357')\n",
    "c = set('024')"
   ]
  },
  {
   "cell_type": "code",
   "execution_count": 31,
   "metadata": {},
   "outputs": [
    {
     "name": "stdout",
     "output_type": "stream",
     "text": [
      "{'5', '1', '3'}\n",
      "{'2', '4'}\n",
      "set()\n",
      "set()\n"
     ]
    }
   ],
   "source": [
    "#Пересечения\n",
    "pab = set.intersection(a,b)\n",
    "pac = set.intersection(a,c)\n",
    "pbc = set.intersection(b,c)\n",
    "pabc = set.intersection(a,b,c)\n",
    "print(pab)\n",
    "print(pac)\n",
    "print(pbc)\n",
    "print(pabc)"
   ]
  },
  {
   "cell_type": "code",
   "execution_count": 49,
   "metadata": {},
   "outputs": [
    {
     "name": "stdout",
     "output_type": "stream",
     "text": [
      "{'5', '1', '2', '4', '6', '7', '3'}\n",
      "{'5', '1', '2', '0', '4', '6', '3'}\n",
      "{'5', '1', '7', '2', '0', '3', '4'}\n",
      "{'5', '1', '2', '0', '4', '6', '7', '3'}\n"
     ]
    }
   ],
   "source": [
    "#Объединение\n",
    "uab = a.union(b)\n",
    "uac = a.union(c)\n",
    "ubc = b.union(c)\n",
    "uabc = a.union(b,c)\n",
    "print(uab)\n",
    "print(uac)\n",
    "print(ubc)\n",
    "print(uabc)"
   ]
  },
  {
   "cell_type": "code",
   "execution_count": 54,
   "metadata": {},
   "outputs": [
    {
     "name": "stdout",
     "output_type": "stream",
     "text": [
      "{'6', '2', '4'}\n",
      "{'7'}\n",
      "{'5', '1', '3', '6'}\n",
      "{'0'}\n",
      "{'5', '1', '7', '3'}\n",
      "{'0', '2', '4'}\n",
      "{'6'}\n",
      "{'0'}\n",
      "{'7'}\n"
     ]
    }
   ],
   "source": [
    "#разность\n",
    "dab = a.difference(b)\n",
    "dba = b.difference(a)\n",
    "dac = a.difference(c)\n",
    "dca = c.difference(a)\n",
    "dbc = b.difference(c)\n",
    "dcb = c.difference(b)\n",
    "dabc = a.difference(b,c)\n",
    "dcab = c.difference(a,b)\n",
    "dbac = b.difference(a,c)\n",
    "\n",
    "print(dab)\n",
    "print(dba)\n",
    "print(dac)\n",
    "print(dca)\n",
    "print(dbc)\n",
    "print(dcb)\n",
    "print(dabc)\n",
    "print(dcab)\n",
    "print(dbac)"
   ]
  },
  {
   "cell_type": "code",
   "execution_count": 56,
   "metadata": {},
   "outputs": [
    {
     "name": "stdout",
     "output_type": "stream",
     "text": [
      "{'6', '7', '2', '4'}\n",
      "{'5', '1', '3', '6', '0'}\n",
      "{'5', '1', '2', '4', '3', '7', '0'}\n",
      "{'6', '7', '0'}\n"
     ]
    }
   ],
   "source": [
    "#симметрическая разность\n",
    "sdab = a.symmetric_difference(b)\n",
    "sdac = a.symmetric_difference(c)\n",
    "sdbc = b.symmetric_difference(c)\n",
    "sdabc = sdab.symmetric_difference(c)\n",
    "print(sdab)\n",
    "print(sdac)\n",
    "print(sdbc)\n",
    "print(sdabc)"
   ]
  },
  {
   "cell_type": "code",
   "execution_count": 61,
   "metadata": {},
   "outputs": [
    {
     "name": "stdout",
     "output_type": "stream",
     "text": [
      "[('5', '0'), ('5', '2'), ('5', '4'), ('1', '0'), ('1', '2'), ('1', '4'), ('7', '0'), ('7', '2'), ('7', '4'), ('3', '0'), ('3', '2'), ('3', '4')]\n"
     ]
    }
   ],
   "source": [
    "#декартово произведение\n",
    "def decart(s1,s2):\n",
    "    return [(i,j) for i in s1 for j in s2]\n",
    "decart(a,b)\n",
    "decart(a,c)\n",
    "print(decart(b,c))"
   ]
  },
  {
   "cell_type": "code",
   "execution_count": null,
   "metadata": {},
   "outputs": [],
   "source": []
  }
 ],
 "metadata": {
  "kernelspec": {
   "display_name": "Python 3",
   "language": "python",
   "name": "python3"
  },
  "language_info": {
   "codemirror_mode": {
    "name": "ipython",
    "version": 3
   },
   "file_extension": ".py",
   "mimetype": "text/x-python",
   "name": "python",
   "nbconvert_exporter": "python",
   "pygments_lexer": "ipython3",
   "version": "3.8.1"
  }
 },
 "nbformat": 4,
 "nbformat_minor": 4
}
